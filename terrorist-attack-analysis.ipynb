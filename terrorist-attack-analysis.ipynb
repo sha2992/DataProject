{
 "cells": [
  {
   "cell_type": "code",
   "execution_count": 1,
   "id": "d139c644",
   "metadata": {
    "_cell_guid": "b1076dfc-b9ad-4769-8c92-a6c4dae69d19",
    "_uuid": "8f2839f25d086af736a60e9eeb907d3b93b6e0e5",
    "execution": {
     "iopub.execute_input": "2024-03-03T10:14:35.486889Z",
     "iopub.status.busy": "2024-03-03T10:14:35.486027Z",
     "iopub.status.idle": "2024-03-03T10:14:36.513108Z",
     "shell.execute_reply": "2024-03-03T10:14:36.511891Z"
    },
    "papermill": {
     "duration": 1.035433,
     "end_time": "2024-03-03T10:14:36.515657",
     "exception": false,
     "start_time": "2024-03-03T10:14:35.480224",
     "status": "completed"
    },
    "tags": []
   },
   "outputs": [
    {
     "name": "stdout",
     "output_type": "stream",
     "text": [
      "/kaggle/input/terrorism-in-world/terrorist-attacks new.csv\n"
     ]
    }
   ],
   "source": [
    "# This Python 3 environment comes with many helpful analytics libraries installed\n",
    "# It is defined by the kaggle/python Docker image: https://github.com/kaggle/docker-python\n",
    "# For example, here's several helpful packages to load\n",
    "\n",
    "import numpy as np # linear algebra\n",
    "import pandas as pd # data processing, CSV file I/O (e.g. pd.read_csv)\n",
    "\n",
    "# Input data files are available in the read-only \"../input/\" directory\n",
    "# For example, running this (by clicking run or pressing Shift+Enter) will list all files under the input directory\n",
    "\n",
    "import os\n",
    "for dirname, _, filenames in os.walk('/kaggle/input'):\n",
    "    for filename in filenames:\n",
    "        print(os.path.join(dirname, filename))\n",
    "\n",
    "# You can write up to 20GB to the current directory (/kaggle/working/) that gets preserved as output when you create a version using \"Save & Run All\" \n",
    "# You can also write temporary files to /kaggle/temp/, but they won't be saved outside of the current session"
   ]
  },
  {
   "cell_type": "code",
   "execution_count": 2,
   "id": "7b4d4338",
   "metadata": {
    "execution": {
     "iopub.execute_input": "2024-03-03T10:14:36.524272Z",
     "iopub.status.busy": "2024-03-03T10:14:36.523792Z",
     "iopub.status.idle": "2024-03-03T10:14:36.567218Z",
     "shell.execute_reply": "2024-03-03T10:14:36.566094Z"
    },
    "papermill": {
     "duration": 0.050502,
     "end_time": "2024-03-03T10:14:36.569906",
     "exception": false,
     "start_time": "2024-03-03T10:14:36.519404",
     "status": "completed"
    },
    "tags": []
   },
   "outputs": [
    {
     "data": {
      "text/html": [
       "<div>\n",
       "<style scoped>\n",
       "    .dataframe tbody tr th:only-of-type {\n",
       "        vertical-align: middle;\n",
       "    }\n",
       "\n",
       "    .dataframe tbody tr th {\n",
       "        vertical-align: top;\n",
       "    }\n",
       "\n",
       "    .dataframe thead th {\n",
       "        text-align: right;\n",
       "    }\n",
       "</style>\n",
       "<table border=\"1\" class=\"dataframe\">\n",
       "  <thead>\n",
       "    <tr style=\"text-align: right;\">\n",
       "      <th></th>\n",
       "      <th>Entity</th>\n",
       "      <th>Code</th>\n",
       "      <th>Year</th>\n",
       "      <th>Terrorist attacks</th>\n",
       "    </tr>\n",
       "  </thead>\n",
       "  <tbody>\n",
       "    <tr>\n",
       "      <th>0</th>\n",
       "      <td>Afghanistan</td>\n",
       "      <td>AFG</td>\n",
       "      <td>1970</td>\n",
       "      <td>0</td>\n",
       "    </tr>\n",
       "    <tr>\n",
       "      <th>1</th>\n",
       "      <td>Afghanistan</td>\n",
       "      <td>AFG</td>\n",
       "      <td>1971</td>\n",
       "      <td>0</td>\n",
       "    </tr>\n",
       "    <tr>\n",
       "      <th>2</th>\n",
       "      <td>Afghanistan</td>\n",
       "      <td>AFG</td>\n",
       "      <td>1972</td>\n",
       "      <td>0</td>\n",
       "    </tr>\n",
       "    <tr>\n",
       "      <th>3</th>\n",
       "      <td>Afghanistan</td>\n",
       "      <td>AFG</td>\n",
       "      <td>1973</td>\n",
       "      <td>1</td>\n",
       "    </tr>\n",
       "    <tr>\n",
       "      <th>4</th>\n",
       "      <td>Afghanistan</td>\n",
       "      <td>AFG</td>\n",
       "      <td>1974</td>\n",
       "      <td>0</td>\n",
       "    </tr>\n",
       "  </tbody>\n",
       "</table>\n",
       "</div>"
      ],
      "text/plain": [
       "        Entity Code  Year  Terrorist attacks\n",
       "0  Afghanistan  AFG  1970                  0\n",
       "1  Afghanistan  AFG  1971                  0\n",
       "2  Afghanistan  AFG  1972                  0\n",
       "3  Afghanistan  AFG  1973                  1\n",
       "4  Afghanistan  AFG  1974                  0"
      ]
     },
     "execution_count": 2,
     "metadata": {},
     "output_type": "execute_result"
    }
   ],
   "source": [
    "df = pd.read_csv(\"/kaggle/input/terrorism-in-world/terrorist-attacks new.csv\")\n",
    "df.head()"
   ]
  },
  {
   "cell_type": "code",
   "execution_count": 3,
   "id": "5ab545b7",
   "metadata": {
    "execution": {
     "iopub.execute_input": "2024-03-03T10:14:36.579278Z",
     "iopub.status.busy": "2024-03-03T10:14:36.578299Z",
     "iopub.status.idle": "2024-03-03T10:14:36.585263Z",
     "shell.execute_reply": "2024-03-03T10:14:36.584100Z"
    },
    "papermill": {
     "duration": 0.013997,
     "end_time": "2024-03-03T10:14:36.587578",
     "exception": false,
     "start_time": "2024-03-03T10:14:36.573581",
     "status": "completed"
    },
    "tags": []
   },
   "outputs": [
    {
     "data": {
      "text/plain": [
       "(10517, 4)"
      ]
     },
     "execution_count": 3,
     "metadata": {},
     "output_type": "execute_result"
    }
   ],
   "source": [
    "df.shape"
   ]
  },
  {
   "cell_type": "code",
   "execution_count": 4,
   "id": "3d060144",
   "metadata": {
    "execution": {
     "iopub.execute_input": "2024-03-03T10:14:36.596548Z",
     "iopub.status.busy": "2024-03-03T10:14:36.596178Z",
     "iopub.status.idle": "2024-03-03T10:14:36.626760Z",
     "shell.execute_reply": "2024-03-03T10:14:36.625505Z"
    },
    "papermill": {
     "duration": 0.03802,
     "end_time": "2024-03-03T10:14:36.629323",
     "exception": false,
     "start_time": "2024-03-03T10:14:36.591303",
     "status": "completed"
    },
    "tags": []
   },
   "outputs": [
    {
     "name": "stdout",
     "output_type": "stream",
     "text": [
      "<class 'pandas.core.frame.DataFrame'>\n",
      "RangeIndex: 10517 entries, 0 to 10516\n",
      "Data columns (total 4 columns):\n",
      " #   Column             Non-Null Count  Dtype \n",
      "---  ------             --------------  ----- \n",
      " 0   Entity             10517 non-null  object\n",
      " 1   Code               9263 non-null   object\n",
      " 2   Year               10517 non-null  int64 \n",
      " 3   Terrorist attacks  10517 non-null  int64 \n",
      "dtypes: int64(2), object(2)\n",
      "memory usage: 328.8+ KB\n"
     ]
    }
   ],
   "source": [
    "df.info()"
   ]
  },
  {
   "cell_type": "code",
   "execution_count": 5,
   "id": "ecac9a59",
   "metadata": {
    "execution": {
     "iopub.execute_input": "2024-03-03T10:14:36.638967Z",
     "iopub.status.busy": "2024-03-03T10:14:36.638327Z",
     "iopub.status.idle": "2024-03-03T10:14:36.651854Z",
     "shell.execute_reply": "2024-03-03T10:14:36.650808Z"
    },
    "papermill": {
     "duration": 0.021148,
     "end_time": "2024-03-03T10:14:36.654337",
     "exception": false,
     "start_time": "2024-03-03T10:14:36.633189",
     "status": "completed"
    },
    "tags": []
   },
   "outputs": [
    {
     "data": {
      "text/plain": [
       "Entity\n",
       "Africa                            51\n",
       "Oceania                           51\n",
       "Western Europe                    51\n",
       "West Bank and Gaza Strip          51\n",
       "Sub-Saharan Africa                51\n",
       "Southeast Asia                    51\n",
       "South Yemen                       51\n",
       "South Asia                        51\n",
       "South America                     51\n",
       "Rhodesia                          51\n",
       "Republic of the Congo             51\n",
       "People's Republic of the Congo    51\n",
       "North America                     51\n",
       "Asia                              51\n",
       "New Hebrides                      51\n",
       "Middle East & North Africa        51\n",
       "International                     51\n",
       "Europe                            51\n",
       "Eastern Europe                    51\n",
       "East Asia                         51\n",
       "Central Asia                      51\n",
       "Central America & Caribbean       51\n",
       "Australasia & Oceania             51\n",
       "Zaire                             51\n",
       "Macedonia                         30\n",
       "Name: count, dtype: int64"
      ]
     },
     "execution_count": 5,
     "metadata": {},
     "output_type": "execute_result"
    }
   ],
   "source": [
    "df[df.Code.isnull()].Entity.value_counts()"
   ]
  },
  {
   "cell_type": "code",
   "execution_count": 6,
   "id": "020bea6a",
   "metadata": {
    "execution": {
     "iopub.execute_input": "2024-03-03T10:14:36.664155Z",
     "iopub.status.busy": "2024-03-03T10:14:36.663771Z",
     "iopub.status.idle": "2024-03-03T10:14:36.671348Z",
     "shell.execute_reply": "2024-03-03T10:14:36.670146Z"
    },
    "papermill": {
     "duration": 0.015316,
     "end_time": "2024-03-03T10:14:36.673629",
     "exception": false,
     "start_time": "2024-03-03T10:14:36.658313",
     "status": "completed"
    },
    "tags": []
   },
   "outputs": [
    {
     "data": {
      "text/plain": [
       "197"
      ]
     },
     "execution_count": 6,
     "metadata": {},
     "output_type": "execute_result"
    }
   ],
   "source": [
    "len(pd.unique(df.Code))"
   ]
  }
 ],
 "metadata": {
  "kaggle": {
   "accelerator": "none",
   "dataSources": [
    {
     "datasetId": 4505894,
     "sourceId": 7715365,
     "sourceType": "datasetVersion"
    }
   ],
   "dockerImageVersionId": 30664,
   "isGpuEnabled": false,
   "isInternetEnabled": true,
   "language": "python",
   "sourceType": "notebook"
  },
  "kernelspec": {
   "display_name": "Python 3",
   "language": "python",
   "name": "python3"
  },
  "language_info": {
   "codemirror_mode": {
    "name": "ipython",
    "version": 3
   },
   "file_extension": ".py",
   "mimetype": "text/x-python",
   "name": "python",
   "nbconvert_exporter": "python",
   "pygments_lexer": "ipython3",
   "version": "3.10.13"
  },
  "papermill": {
   "default_parameters": {},
   "duration": 4.849145,
   "end_time": "2024-03-03T10:14:37.198907",
   "environment_variables": {},
   "exception": null,
   "input_path": "__notebook__.ipynb",
   "output_path": "__notebook__.ipynb",
   "parameters": {},
   "start_time": "2024-03-03T10:14:32.349762",
   "version": "2.5.0"
  }
 },
 "nbformat": 4,
 "nbformat_minor": 5
}
